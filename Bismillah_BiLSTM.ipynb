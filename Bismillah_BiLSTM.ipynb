{
  "nbformat": 4,
  "nbformat_minor": 0,
  "metadata": {
    "kernelspec": {
      "display_name": "Python 3",
      "language": "python",
      "name": "python3"
    },
    "language_info": {
      "codemirror_mode": {
        "name": "ipython",
        "version": 3
      },
      "file_extension": ".py",
      "mimetype": "text/x-python",
      "name": "python",
      "nbconvert_exporter": "python",
      "pygments_lexer": "ipython3",
      "version": "3.6.5"
    },
    "colab": {
      "provenance": []
    }
  },
  "cells": [
    {
      "cell_type": "code",
      "metadata": {
        "id": "YHEOUsIvQ8A1"
      },
      "source": [
        "# to be imported\n",
        "from keras.models import Sequential\n",
        "from keras.layers import Dense, Embedding, LSTM, GRU, Flatten, Dropout, Lambda, Bidirectional\n",
        "from keras.layers.embeddings import Embedding\n",
        "import tensorflow as tf\n",
        "\n",
        "from __future__ import print_function\n",
        "from keras.preprocessing.text import text_to_word_sequence\n",
        "from keras.preprocessing.text import Tokenizer\n",
        "\n",
        "from keras.models import load_model\n",
        "from keras.preprocessing import sequence\n",
        "from keras.models import Sequential\n",
        "from keras.layers import Dense, Dropout, Activation\n",
        "from keras.layers import Embedding\n",
        "from keras.layers import Conv1D, GlobalMaxPooling1D, MaxPooling1D, LSTM, GRU\n",
        "from keras.callbacks import EarlyStopping\n",
        "from keras import initializers\n",
        "import seaborn as sns\n",
        "import matplotlib.pyplot as plt\n",
        "import numpy as np"
      ],
      "execution_count": null,
      "outputs": []
    },
    {
      "cell_type": "markdown",
      "metadata": {
        "id": "auFD0iHQQ8AJ"
      },
      "source": [
        "# ASPECT"
      ]
    },
    {
      "cell_type": "code",
      "metadata": {
        "id": "09kQ4LtfRofA",
        "colab": {
          "base_uri": "https://localhost:8080/"
        },
        "outputId": "bdcbeec4-97e3-4031-ae9a-62322df7b24d"
      },
      "source": [
        "from google.colab import drive\n",
        "drive.mount('/content/drive')"
      ],
      "execution_count": null,
      "outputs": [
        {
          "output_type": "stream",
          "name": "stdout",
          "text": [
            "Mounted at /content/drive\n"
          ]
        }
      ]
    },
    {
      "cell_type": "code",
      "metadata": {
        "colab": {
          "base_uri": "https://localhost:8080/"
        },
        "id": "fC4uZGrkk-Sb",
        "outputId": "eee59879-26cf-4be0-bc38-28af835cf4bf"
      },
      "source": [
        "pip install svg.path"
      ],
      "execution_count": null,
      "outputs": [
        {
          "output_type": "stream",
          "name": "stdout",
          "text": [
            "Collecting svg.path\n",
            "  Downloading svg.path-4.1-py2.py3-none-any.whl (21 kB)\n",
            "Installing collected packages: svg.path\n",
            "Successfully installed svg.path-4.1\n"
          ]
        }
      ]
    },
    {
      "cell_type": "code",
      "metadata": {
        "scrolled": true,
        "id": "-YVNyp_oQ8AN",
        "colab": {
          "base_uri": "https://localhost:8080/",
          "height": 373
        },
        "outputId": "a4e69f23-c157-46b6-f510-a798fb313ca7"
      },
      "source": [
        "import numpy as np\n",
        "import pandas as pd\n",
        "df_train = pd.read_csv('/content/drive/MyDrive/TA & SKRIPSI/TA/DATASETJADI.csv')\n",
        "target_count_aspect = df_train.aspek.value_counts()\n",
        "\n",
        "print('Class 0:', target_count_aspect[\"toilet\"])\n",
        "print('Class 1:', target_count_aspect[\"halal food\"])\n",
        "print('Class 2:', target_count_aspect[\"mosque\"])\n",
        "\n",
        "target_count_aspect.plot(kind='bar', title='Count (target)');"
      ],
      "execution_count": null,
      "outputs": [
        {
          "output_type": "stream",
          "name": "stdout",
          "text": [
            "Class 0: 891\n",
            "Class 1: 807\n",
            "Class 2: 669\n"
          ]
        },
        {
          "output_type": "display_data",
          "data": {
            "image/png": "[encoded data removed]",
            "text/plain": [
              "<Figure size 432x288 with 1 Axes>"
            ]
          },
          "metadata": {
            "needs_background": "light"
          }
        }
      ]
    },
    {
      "cell_type": "code",
      "metadata": {
        "id": "S826GeyJQ8AX"
      },
      "source": [
        "df_train_aspect = df_train.loc[df_train['aspek'].isin([\"toilet\", \"halal food\", \"mosque\"])]"
      ],
      "execution_count": null,
      "outputs": []
    },
    {
      "cell_type": "code",
      "metadata": {
        "id": "UEWGefiRQ8Af"
      },
      "source": [
        "count_class_0_aspect, count_class_1_aspect, count_class_2_aspect = df_train_aspect.aspek.value_counts()\n",
        "\n",
        "df_class_0_aspect = df_train_aspect[df_train_aspect['aspek'] == \"toilet\"]\n",
        "df_class_1_aspect = df_train_aspect[df_train_aspect['aspek'] == \"halal food\"]\n",
        "df_class_2_aspect = df_train_aspect[df_train_aspect['aspek'] == \"mosque\"]"
      ],
      "execution_count": null,
      "outputs": []
    },
    {
      "cell_type": "code",
      "metadata": {
        "id": "j5XU7YOXQ8Am",
        "colab": {
          "base_uri": "https://localhost:8080/",
          "height": 408
        },
        "outputId": "f3efb4cc-eef6-4aac-90ff-8e308779371a"
      },
      "source": [
        "df_class_1_over_aspect = df_class_1_aspect.sample(count_class_0_aspect, replace=True)\n",
        "df_class_2_over_aspect = df_class_2_aspect.sample(count_class_0_aspect, replace=True)\n",
        "df_test_over_aspect = pd.concat([df_class_0_aspect, df_class_1_over_aspect, df_class_2_over_aspect], axis=0)\n",
        "\n",
        "print('Random over-sampling:')\n",
        "print(df_test_over_aspect.aspek.value_counts())\n",
        "\n",
        "df_test_over_aspect.aspek.value_counts().plot(kind='bar', title='Count (target)');"
      ],
      "execution_count": null,
      "outputs": [
        {
          "output_type": "stream",
          "name": "stdout",
          "text": [
            "Random over-sampling:\n",
            "mosque        891\n",
            "halal food    891\n",
            "toilet        891\n",
            "Name: aspek, dtype: int64\n"
          ]
        },
        {
          "output_type": "display_data",
          "data": {
            "image/png": "[encoded data removed]",
            "text/plain": [
              "<Figure size 432x288 with 1 Axes>"
            ]
          },
          "metadata": {
            "needs_background": "light"
          }
        }
      ]
    },
    {
      "cell_type": "code",
      "metadata": {
        "colab": {
          "base_uri": "https://localhost:8080/",
          "height": 206
        },
        "id": "HAylqE9r-oV1",
        "outputId": "cadcf775-e4ec-4e25-f273-b12858ad8b9b"
      },
      "source": [
        "df_test_over_aspect.head()"
      ],
      "execution_count": null,
      "outputs": [
        {
          "output_type": "execute_result",
          "data": {
            "text/html": [
              "\n",
              "  <div id=\"df-f913a3df-7091-461f-be95-acdaada96eb4\">\n",
              "    <div class=\"colab-df-container\">\n",
              "      <div>\n",
              "<style scoped>\n",
              "    .dataframe tbody tr th:only-of-type {\n",
              "        vertical-align: middle;\n",
              "    }\n",
              "\n",
              "    .dataframe tbody tr th {\n",
              "        vertical-align: top;\n",
              "    }\n",
              "\n",
              "    .dataframe thead th {\n",
              "        text-align: right;\n",
              "    }\n",
              "</style>\n",
              "<table border=\"1\" class=\"dataframe\">\n",
              "  <thead>\n",
              "    <tr style=\"text-align: right;\">\n",
              "      <th></th>\n",
              "      <th>review</th>\n",
              "      <th>sentimen</th>\n",
              "      <th>aspek</th>\n",
              "    </tr>\n",
              "  </thead>\n",
              "  <tbody>\n",
              "    <tr>\n",
              "      <th>408</th>\n",
              "      <td>worth visit mosque asian arabic styles avoid b...</td>\n",
              "      <td>negative</td>\n",
              "      <td>toilet</td>\n",
              "    </tr>\n",
              "    <tr>\n",
              "      <th>411</th>\n",
              "      <td>come lunch crappy tourist trap guide lots cool...</td>\n",
              "      <td>positive</td>\n",
              "      <td>toilet</td>\n",
              "    </tr>\n",
              "    <tr>\n",
              "      <th>674</th>\n",
              "      <td>hour late night lounge provided fantastic envi...</td>\n",
              "      <td>positive</td>\n",
              "      <td>toilet</td>\n",
              "    </tr>\n",
              "    <tr>\n",
              "      <th>675</th>\n",
              "      <td>recommend lounge clean food cheap nasty toilet...</td>\n",
              "      <td>negative</td>\n",
              "      <td>toilet</td>\n",
              "    </tr>\n",
              "    <tr>\n",
              "      <th>676</th>\n",
              "      <td>stay included travel company change flight hou...</td>\n",
              "      <td>negative</td>\n",
              "      <td>toilet</td>\n",
              "    </tr>\n",
              "  </tbody>\n",
              "</table>\n",
              "</div>\n",
              "      <button class=\"colab-df-convert\" onclick=\"convertToInteractive('df-f913a3df-7091-461f-be95-acdaada96eb4')\"\n",
              "              title=\"Convert this dataframe to an interactive table.\"\n",
              "              style=\"display:none;\">\n",
              "        \n",
              "  <svg xmlns=\"http://www.w3.org/2000/svg\" height=\"24px\"viewBox=\"0 0 24 24\"\n",
              "       width=\"24px\">\n",
              "    <path d=\"M0 0h24v24H0V0z\" fill=\"none\"/>\n",
              "    <path d=\"M18.56 5.44l.94 2.06.94-2.06 2.06-.94-2.06-.94-.94-2.06-.94 2.06-2.06.94zm-11 1L8.5 8.5l.94-2.06 2.06-.94-2.06-.94L8.5 2.5l-.94 2.06-2.06.94zm10 10l.94 2.06.94-2.06 2.06-.94-2.06-.94-.94-2.06-.94 2.06-2.06.94z\"/><path d=\"M17.41 7.96l-1.37-1.37c-.4-.4-.92-.59-1.43-.59-.52 0-1.04.2-1.43.59L10.3 9.45l-7.72 7.72c-.78.78-.78 2.05 0 2.83L4 21.41c.39.39.9.59 1.41.59.51 0 1.02-.2 1.41-.59l7.78-7.78 2.81-2.81c.8-.78.8-2.07 0-2.86zM5.41 20L4 18.59l7.72-7.72 1.47 1.35L5.41 20z\"/>\n",
              "  </svg>\n",
              "      </button>\n",
              "      \n",
              "  <style>\n",
              "    .colab-df-container {\n",
              "      display:flex;\n",
              "      flex-wrap:wrap;\n",
              "      gap: 12px;\n",
              "    }\n",
              "\n",
              "    .colab-df-convert {\n",
              "      background-color: #E8F0FE;\n",
              "      border: none;\n",
              "      border-radius: 50%;\n",
              "      cursor: pointer;\n",
              "      display: none;\n",
              "      fill: #1967D2;\n",
              "      height: 32px;\n",
              "      padding: 0 0 0 0;\n",
              "      width: 32px;\n",
              "    }\n",
              "\n",
              "    .colab-df-convert:hover {\n",
              "      background-color: #E2EBFA;\n",
              "      box-shadow: 0px 1px 2px rgba(60, 64, 67, 0.3), 0px 1px 3px 1px rgba(60, 64, 67, 0.15);\n",
              "      fill: #174EA6;\n",
              "    }\n",
              "\n",
              "    [theme=dark] .colab-df-convert {\n",
              "      background-color: #3B4455;\n",
              "      fill: #D2E3FC;\n",
              "    }\n",
              "\n",
              "    [theme=dark] .colab-df-convert:hover {\n",
              "      background-color: #434B5C;\n",
              "      box-shadow: 0px 1px 3px 1px rgba(0, 0, 0, 0.15);\n",
              "      filter: drop-shadow(0px 1px 2px rgba(0, 0, 0, 0.3));\n",
              "      fill: #FFFFFF;\n",
              "    }\n",
              "  </style>\n",
              "\n",
              "      <script>\n",
              "        const buttonEl =\n",
              "          document.querySelector('#df-f913a3df-7091-461f-be95-acdaada96eb4 button.colab-df-convert');\n",
              "        buttonEl.style.display =\n",
              "          google.colab.kernel.accessAllowed ? 'block' : 'none';\n",
              "\n",
              "        async function convertToInteractive(key) {\n",
              "          const element = document.querySelector('#df-f913a3df-7091-461f-be95-acdaada96eb4');\n",
              "          const dataTable =\n",
              "            await google.colab.kernel.invokeFunction('convertToInteractive',\n",
              "                                                     [key], {});\n",
              "          if (!dataTable) return;\n",
              "\n",
              "          const docLinkHtml = 'Like what you see? Visit the ' +\n",
              "            '<a target=\"_blank\" href=https://colab.research.google.com/notebooks/data_table.ipynb>data table notebook</a>'\n",
              "            + ' to learn more about interactive tables.';\n",
              "          element.innerHTML = '';\n",
              "          dataTable['output_type'] = 'display_data';\n",
              "          await google.colab.output.renderOutput(dataTable, element);\n",
              "          const docLink = document.createElement('div');\n",
              "          docLink.innerHTML = docLinkHtml;\n",
              "          element.appendChild(docLink);\n",
              "        }\n",
              "      </script>\n",
              "    </div>\n",
              "  </div>\n",
              "  "
            ],
            "text/plain": [
              "                                                review  sentimen   aspek\n",
              "408  worth visit mosque asian arabic styles avoid b...  negative  toilet\n",
              "411  come lunch crappy tourist trap guide lots cool...  positive  toilet\n",
              "674  hour late night lounge provided fantastic envi...  positive  toilet\n",
              "675  recommend lounge clean food cheap nasty toilet...  negative  toilet\n",
              "676  stay included travel company change flight hou...  negative  toilet"
            ]
          },
          "metadata": {},
          "execution_count": 8
        }
      ]
    },
    {
      "cell_type": "code",
      "metadata": {
        "id": "1tzgHxnQQ8A9",
        "colab": {
          "base_uri": "https://localhost:8080/"
        },
        "outputId": "faf8f820-df92-49ad-9837-f344df078fe0"
      },
      "source": [
        "cols = ['aspek','review']\n",
        "d_aspect = df_test_over_aspect[cols]\n",
        "\n",
        "d_aspect=d_aspect[d_aspect['review'].notnull()]\n",
        "\n",
        "d_aspect=d_aspect[d_aspect['aspek'].notnull()]\n",
        "d_aspect.reset_index(drop=True,inplace=True)\n",
        "x_aspect = d_aspect.iloc[:, 1].values\n",
        "y_aspect = d_aspect.iloc[:, 0].values\n",
        "\n",
        "print(np.unique(y_aspect, return_counts=True))"
      ],
      "execution_count": null,
      "outputs": [
        {
          "output_type": "stream",
          "name": "stdout",
          "text": [
            "(array(['halal food', 'mosque', 'toilet'], dtype=object), array([891, 891, 891]))\n"
          ]
        }
      ]
    },
    {
      "cell_type": "code",
      "metadata": {
        "colab": {
          "base_uri": "https://localhost:8080/"
        },
        "id": "EopuzM5dbs7M",
        "outputId": "aed2b54f-be92-4cd9-f5f5-890d9436a3b6"
      },
      "source": [
        "print(d_aspect)"
      ],
      "execution_count": null,
      "outputs": [
        {
          "output_type": "stream",
          "name": "stdout",
          "text": [
            "       aspek                                             review\n",
            "0     toilet  worth visit mosque asian arabic styles avoid b...\n",
            "1     toilet  come lunch crappy tourist trap guide lots cool...\n",
            "2     toilet  hour late night lounge provided fantastic envi...\n",
            "3     toilet  recommend lounge clean food cheap nasty toilet...\n",
            "4     toilet  stay included travel company change flight hou...\n",
            "...      ...                                                ...\n",
            "2668  mosque  cheek jowl temples markets peaceful serene mos...\n",
            "2669  mosque  shopping food galore halal food choices level ...\n",
            "2670  mosque                            glad proper prayer room\n",
            "2671  mosque  lots food artistic items nice evening visiting...\n",
            "2672  mosque  railway station administration building road h...\n",
            "\n",
            "[2673 rows x 2 columns]\n"
          ]
        }
      ]
    },
    {
      "cell_type": "code",
      "metadata": {
        "id": "pA7fTIWxQ8BG",
        "colab": {
          "base_uri": "https://localhost:8080/"
        },
        "outputId": "9c3cd622-81a3-445c-a752-9d9c7570aa53"
      },
      "source": [
        "len(d_aspect)"
      ],
      "execution_count": null,
      "outputs": [
        {
          "output_type": "execute_result",
          "data": {
            "text/plain": [
              "2673"
            ]
          },
          "metadata": {},
          "execution_count": 11
        }
      ]
    },
    {
      "cell_type": "code",
      "metadata": {
        "id": "bQBp8i8VQ8B5",
        "colab": {
          "base_uri": "https://localhost:8080/"
        },
        "outputId": "7581240c-5940-4204-923f-2b63f324c4fe"
      },
      "source": [
        "len(y_aspect)"
      ],
      "execution_count": null,
      "outputs": [
        {
          "output_type": "execute_result",
          "data": {
            "text/plain": [
              "2673"
            ]
          },
          "metadata": {},
          "execution_count": 12
        }
      ]
    },
    {
      "cell_type": "code",
      "metadata": {
        "id": "TJDjJj9cQ8CB"
      },
      "source": [
        "tk_aspect = Tokenizer()"
      ],
      "execution_count": null,
      "outputs": []
    },
    {
      "cell_type": "code",
      "metadata": {
        "id": "eiq69mJXQ8CG",
        "colab": {
          "base_uri": "https://localhost:8080/"
        },
        "outputId": "6e65475b-10fc-445c-e958-9843afe110ab"
      },
      "source": [
        "text_aspect = d_aspect['review'].values\n",
        "maxlen_aspect = max([len(i.split()) for i in text_aspect])\n",
        "\n",
        "tk_aspect.fit_on_texts(text_aspect)\n",
        "x_aspect = tk_aspect.texts_to_sequences(x_aspect)\n",
        "x_aspect = sequence.pad_sequences(x_aspect, maxlen_aspect)\n",
        "vocab_aspect = max([len(tk_aspect.word_index)]) + 1\n",
        "print(x_aspect)"
      ],
      "execution_count": null,
      "outputs": [
        {
          "output_type": "stream",
          "name": "stdout",
          "text": [
            "[[   0    0    0 ...  409  157  735]\n",
            " [   0    0    0 ...    6  403  127]\n",
            " [   0    0    0 ...  118    8  156]\n",
            " ...\n",
            " [   0    0    0 ... 1059  243 2825]\n",
            " [   0    0    0 ...   24    9 1850]\n",
            " [   0    0    0 ...  565 4671    6]]\n"
          ]
        }
      ]
    },
    {
      "cell_type": "code",
      "metadata": {
        "id": "6uHGzWSRQ8CO",
        "colab": {
          "base_uri": "https://localhost:8080/"
        },
        "outputId": "6870bbad-fc69-4cdc-b20d-a202247e2081"
      },
      "source": [
        "print(\"vocab aspect : \" + str(vocab_aspect))\n",
        "print(\"maxlen aspect: \" + str(maxlen_aspect))"
      ],
      "execution_count": null,
      "outputs": [
        {
          "output_type": "stream",
          "name": "stdout",
          "text": [
            "vocab aspect : 7066\n",
            "maxlen aspect: 580\n"
          ]
        }
      ]
    },
    {
      "cell_type": "code",
      "metadata": {
        "id": "IS_boVRzQ8CX",
        "colab": {
          "base_uri": "https://localhost:8080/"
        },
        "outputId": "8bb10400-013b-406a-f166-43eed37d3bfa"
      },
      "source": [
        "from sklearn.preprocessing import LabelEncoder, OneHotEncoder\n",
        "labelencoder_Y_aspect = LabelEncoder()\n",
        "y_aspect = labelencoder_Y_aspect.fit_transform(y_aspect)\n",
        "print(np.unique(y_aspect, return_counts=True))"
      ],
      "execution_count": null,
      "outputs": [
        {
          "output_type": "stream",
          "name": "stdout",
          "text": [
            "(array([0, 1, 2]), array([891, 891, 891]))\n"
          ]
        }
      ]
    },
    {
      "cell_type": "code",
      "metadata": {
        "id": "f74HpBLbQ8Ce",
        "colab": {
          "base_uri": "https://localhost:8080/"
        },
        "outputId": "3a811855-86e1-44cd-ab1b-c07878a22fc9"
      },
      "source": [
        "from tensorflow.keras import utils as np_utils\n",
        "y_aspect = np_utils.to_categorical(y_aspect, num_classes= 3)\n",
        "\n",
        "print(y_aspect)"
      ],
      "execution_count": null,
      "outputs": [
        {
          "output_type": "stream",
          "name": "stdout",
          "text": [
            "[[0. 0. 1.]\n",
            " [0. 0. 1.]\n",
            " [0. 0. 1.]\n",
            " ...\n",
            " [0. 1. 0.]\n",
            " [0. 1. 0.]\n",
            " [0. 1. 0.]]\n"
          ]
        }
      ]
    },
    {
      "cell_type": "code",
      "metadata": {
        "id": "WBJcwkEjQ8Co",
        "colab": {
          "base_uri": "https://localhost:8080/"
        },
        "outputId": "83d07745-8f24-4138-c791-bae2ee306f0d"
      },
      "source": [
        "from sklearn.model_selection import train_test_split\n",
        "x_train_aspect, x_test_aspect, y_train_aspect, y_test_aspect, indices_train_aspect, indices_test_aspect = train_test_split(x_aspect, y_aspect, d_aspect.index, test_size=0.33, random_state=42)\n",
        "\n",
        "print(x_train_aspect.shape)\n",
        "print(y_train_aspect.shape)\n",
        "print(x_test_aspect.shape)\n",
        "print(y_test_aspect.shape)\n",
        "print(y_aspect)"
      ],
      "execution_count": null,
      "outputs": [
        {
          "output_type": "stream",
          "name": "stdout",
          "text": [
            "(1790, 580)\n",
            "(1790, 3)\n",
            "(883, 580)\n",
            "(883, 3)\n",
            "[[0. 0. 1.]\n",
            " [0. 0. 1.]\n",
            " [0. 0. 1.]\n",
            " ...\n",
            " [0. 1. 0.]\n",
            " [0. 1. 0.]\n",
            " [0. 1. 0.]]\n"
          ]
        }
      ]
    },
    {
      "cell_type": "code",
      "metadata": {
        "scrolled": false,
        "id": "bxHwpu1NQ8Cz",
        "colab": {
          "base_uri": "https://localhost:8080/"
        },
        "outputId": "d09ddc5f-e635-4934-d4a4-c35cb340bf65"
      },
      "source": [
        "x_train_aspect = sequence.pad_sequences(x_train_aspect, maxlen=maxlen_aspect)\n",
        "x_test_aspect = sequence.pad_sequences(x_test_aspect, maxlen=maxlen_aspect)\n",
        "print('x_train aspect shape:', x_train_aspect.shape)\n",
        "print('x_test aspect shape:', x_test_aspect.shape)"
      ],
      "execution_count": null,
      "outputs": [
        {
          "output_type": "stream",
          "name": "stdout",
          "text": [
            "x_train aspect shape: (1790, 580)\n",
            "x_test aspect shape: (883, 580)\n"
          ]
        }
      ]
    },
    {
      "cell_type": "code",
      "metadata": {
        "id": "iBRyER3QQ8DF"
      },
      "source": [
        "embedding_dims = 64\n",
        "filters = 200\n",
        "kernel_size = 9\n",
        "hidden_dims = 128\n",
        "dropout = 0.25\n",
        "lstm_unit = 64\n",
        "gru_unit = 64"
      ],
      "execution_count": null,
      "outputs": []
    },
    {
      "cell_type": "code",
      "metadata": {
        "scrolled": true,
        "id": "E2nkPbAqQ8DL",
        "colab": {
          "base_uri": "https://localhost:8080/"
        },
        "outputId": "276f9278-31d4-4c77-ab33-1c9ebcafdf4a"
      },
      "source": [
        "from keras.utils.vis_utils import plot_model\n",
        "\n",
        "model_aspect = Sequential()\n",
        "model_aspect.add(Embedding(vocab_aspect,\n",
        "                      embedding_dims,\n",
        "                      input_length=maxlen_aspect))\n",
        "model_aspect.add(Dropout(dropout))\n",
        "\n",
        "model_aspect.add(Conv1D(filters,\n",
        "                      kernel_size,\n",
        "                      padding='valid',\n",
        "                      activation='relu',\n",
        "                      strides=1))\n",
        "\n",
        "model_aspect.add(MaxPooling1D())\n",
        "model_aspect.add(Dense(hidden_dims))\n",
        "model_aspect.add(Dropout(dropout))\n",
        "model_aspect.add(Activation('relu'))\n",
        "\n",
        "model_aspect.add(Bidirectional(LSTM(lstm_unit)))\n",
        "\n",
        "model_aspect.add(Dense(3))\n",
        "model_aspect.add(Activation('softmax'))\n",
        "\n",
        "model_aspect.compile(loss='categorical_crossentropy',\n",
        "                optimizer='adam',\n",
        "                metrics=['accuracy'])\n",
        "\n",
        "history_aspect = model_aspect.fit(x_train_aspect, y_train_aspect,\n",
        "          batch_size=64,\n",
        "          epochs=12,\n",
        "          validation_split = 0.33,\n",
        "          callbacks=[EarlyStopping(monitor='val_loss', patience=10, min_delta=0.0001)])"
      ],
      "execution_count": null,
      "outputs": [
        {
          "output_type": "stream",
          "name": "stdout",
          "text": [
            "Epoch 1/12\n",
            "19/19 [==============================] - 50s 2s/step - loss: 1.0929 - accuracy: 0.4279 - val_loss: 1.0611 - val_accuracy: 0.8054\n",
            "Epoch 2/12\n",
            "19/19 [==============================] - 23s 1s/step - loss: 0.6898 - accuracy: 0.8932 - val_loss: 0.2788 - val_accuracy: 0.9255\n",
            "Epoch 3/12\n",
            "19/19 [==============================] - 23s 1s/step - loss: 0.1248 - accuracy: 0.9625 - val_loss: 0.1620 - val_accuracy: 0.9526\n",
            "Epoch 4/12\n",
            "19/19 [==============================] - 22s 1s/step - loss: 0.0557 - accuracy: 0.9808 - val_loss: 0.1646 - val_accuracy: 0.9543\n",
            "Epoch 5/12\n",
            "19/19 [==============================] - 23s 1s/step - loss: 0.0288 - accuracy: 0.9942 - val_loss: 0.2082 - val_accuracy: 0.9526\n",
            "Epoch 6/12\n",
            "19/19 [==============================] - 22s 1s/step - loss: 0.0218 - accuracy: 0.9950 - val_loss: 0.1942 - val_accuracy: 0.9543\n",
            "Epoch 7/12\n",
            "19/19 [==============================] - 22s 1s/step - loss: 0.0193 - accuracy: 0.9950 - val_loss: 0.2100 - val_accuracy: 0.9543\n",
            "19/19 [==============================] - 22s 1s/step - loss: 0.0198 - accuracy: 0.9933 - val_loss: 0.2018 - val_accuracy: 0.9526\n",
            "Epoch 9/12\n",
            "19/19 [==============================] - 22s 1s/step - loss: 0.0150 - accuracy: 0.9942 - val_loss: 0.2074 - val_accuracy: 0.9526\n",
            "Epoch 10/12\n",
            "19/19 [==============================] - 23s 1s/step - loss: 0.0136 - accuracy: 0.9942 - val_loss: 0.2032 - val_accuracy: 0.9543\n",
            "Epoch 11/12\n",
            "19/19 [==============================] - 22s 1s/step - loss: 0.0167 - accuracy: 0.9942 - val_loss: 0.1994 - val_accuracy: 0.9526\n",
            "Epoch 12/12\n",
            "19/19 [==============================] - 22s 1s/step - loss: 0.0173 - accuracy: 0.9917 - val_loss: 0.1874 - val_accuracy: 0.9560\n"
          ]
        }
      ]
    },
    {
      "cell_type": "code",
      "metadata": {
        "id": "_g6l-y1PmaSU"
      },
      "source": [
        "from tensorflow.keras.models import Sequential, save_model, load_model"
      ],
      "execution_count": null,
      "outputs": []
    },
    {
      "cell_type": "code",
      "metadata": {
        "id": "LzYH-CRImbrx",
        "colab": {
          "base_uri": "https://localhost:8080/"
        },
        "outputId": "f212cd66-4a09-41c5-c3e9-39a6d3225a8a"
      },
      "source": [
        "# Save the model\n",
        "filepath = './saved_model'\n",
        "save_model(model_aspect, filepath)\n",
        "\n",
        "# Load the model\n",
        "model_aspect = load_model(filepath, compile = True)"
      ],
      "execution_count": null,
      "outputs": [
        {
          "output_type": "stream",
          "name": "stderr",
          "text": [
            "WARNING:absl:Found untraced functions such as lstm_cell_1_layer_call_fn, lstm_cell_1_layer_call_and_return_conditional_losses, lstm_cell_2_layer_call_fn, lstm_cell_2_layer_call_and_return_conditional_losses, lstm_cell_1_layer_call_fn while saving (showing 5 of 10). These functions will not be directly callable after loading.\n"
          ]
        },
        {
          "output_type": "stream",
          "name": "stdout",
          "text": [
            "INFO:tensorflow:Assets written to: ./saved_model/assets\n"
          ]
        },
        {
          "output_type": "stream",
          "name": "stderr",
          "text": [
            "INFO:tensorflow:Assets written to: ./saved_model/assets\n",
            "WARNING:absl:<keras.layers.recurrent.LSTMCell object at 0x7fd4b7ce3050> has the same name 'LSTMCell' as a built-in Keras object. Consider renaming <class 'keras.layers.recurrent.LSTMCell'> to avoid naming conflicts when loading with `tf.keras.models.load_model`. If renaming is not possible, pass the object in the `custom_objects` parameter of the load function.\n",
            "WARNING:absl:<keras.layers.recurrent.LSTMCell object at 0x7fd4b7ce3a90> has the same name 'LSTMCell' as a built-in Keras object. Consider renaming <class 'keras.layers.recurrent.LSTMCell'> to avoid naming conflicts when loading with `tf.keras.models.load_model`. If renaming is not possible, pass the object in the `custom_objects` parameter of the load function.\n"
          ]
        }
      ]
    },
    {
      "cell_type": "markdown",
      "metadata": {
        "id": "Ajs8GhAFQ8DV"
      },
      "source": [
        "# Predict Aspect\n",
        "tidak bisa di run karena butuh pos tagging, jadi langsung evaluate aja"
      ]
    },
    {
      "cell_type": "code",
      "metadata": {
        "id": "nJcduHyaatwo"
      },
      "source": [
        "#from nltk.stem import SnowballStemmer\n",
        "#snowball = SnowballStemmer(language='english')\n",
        "\n",
        "#def stem(list):\n",
        "#    tmp = []\n",
        "#    for val in list:\n",
        "#        katadasar = snowball.stem(val)\n",
        "#        tmp.append(katadasar)\n",
        "#    return tmp"
      ],
      "execution_count": null,
      "outputs": []
    },
    {
      "cell_type": "code",
      "metadata": {
        "id": "EOBKCdxfQ8DW"
      },
      "source": [
        "#from Sastrawi.Stemmer.StemmerFactory import StemmerFactory\n",
        "#factory = StemmerFactory()\n",
        "#stemmer = factory.create_stemmer()\n",
        "\n",
        "#def stem(list):\n",
        "#    tmp = []\n",
        "#    for val in list:\n",
        "#        katadasar = stemmer.stem(val)\n",
        "#        tmp.append(katadasar)\n",
        "#    return tmp"
      ],
      "execution_count": null,
      "outputs": []
    },
    {
      "cell_type": "code",
      "metadata": {
        "id": "SnEddsUgQ8DZ"
      },
      "source": [
        "#def ABSA_aspect(list):\n",
        "#    rsl = []\n",
        "#    spl_aspect = [val.split() for val in stem(list)]\n",
        "#    hasil_aspect = [ct.tag_sents([val]) for val in spl_aspect]\n",
        "#    hasil_aspect = [item for sublist in hasil_aspect for item in sublist]\n",
        "#    for val in hasil_aspect:\n",
        "#        tmp = \"\"\n",
        "#        for vall in val:\n",
        "#            if(vall[1] == \"NNP\" or vall[1] == \"NN\" or vall[1] == \"VB\"):\n",
        "#                tmp = tmp + vall[0] + \" \"\n",
        "#        tmp = tmp.split()\n",
        "#        tmp = ' '.join(tmp)\n",
        "#        k = tk_aspect.texts_to_sequences([tmp])\n",
        "#        k = sequence.pad_sequences(k, maxlen=maxlen_aspect)\n",
        "#        hsl = labelencoder_Y_aspect.inverse_transform([model_aspect.predict_classes(k)])\n",
        "#        rsl.append(hsl)\n",
        "#    return rsl"
      ],
      "execution_count": null,
      "outputs": []
    },
    {
      "cell_type": "code",
      "metadata": {
        "id": "VBjY0BHZQ8Dj"
      },
      "source": [
        "#kal_aspect = [\"after in 6 floor and the prayer room in 5th floor\"]\n",
        "\n",
        "#print(ABSA_aspect(kal_aspect))"
      ],
      "execution_count": null,
      "outputs": []
    },
    {
      "cell_type": "code",
      "metadata": {
        "id": "jDWukn48ddvY"
      },
      "source": [
        "from keras.preprocessing.text import Tokenizer\n",
        "from keras.preprocessing.sequence import pad_sequences\n",
        "from keras import regularizers"
      ],
      "execution_count": null,
      "outputs": []
    },
    {
      "cell_type": "code",
      "metadata": {
        "colab": {
          "base_uri": "https://localhost:8080/",
          "height": 35
        },
        "id": "3qk_gy6-nQYA",
        "outputId": "2e8af3ad-18e6-490c-e0dd-3601cdbbeddc"
      },
      "source": [
        "aspect = ['mosque','toilet','halal food']\n",
        "sentence = ['toilet clean']\n",
        "sequence2 = tk_aspect.texts_to_sequences(sentence)\n",
        "test = pad_sequences(sequence2, maxlen=maxlen_aspect)\n",
        "aspect[np.around(model_aspect.predict(test), decimals=0).argmax(axis=1)[0]]"
      ],
      "execution_count": null,
      "outputs": [
        {
          "output_type": "execute_result",
          "data": {
            "application/vnd.google.colaboratory.intrinsic+json": {
              "type": "string"
            },
            "text/plain": [
              "'toilet'"
            ]
          },
          "metadata": {},
          "execution_count": 70
        }
      ]
    },
    {
      "cell_type": "code",
      "metadata": {
        "id": "wmHPW9vI9Yz_"
      },
      "source": [
        "def ABSA_aspect(list):\n",
        "    rsl = []\n",
        "    aspect = ['mosque','toilet','halal food']\n",
        "    hasil_aspect = list;\n",
        "    for val in hasil_aspect:\n",
        "      sequence2 = tk_aspect.texts_to_sequences([val])\n",
        "      test = sequence.pad_sequences(sequence2, maxlen=maxlen_aspect)\n",
        "      #hsl = labelencoder_Y_aspect.inverse_transform([model_aspect.predict(test)])\n",
        "      hsl = aspect[np.around(model_aspect.predict(test), decimals=0).argmax(axis=1)[0]]\n",
        "      rsl.append(hsl)\n",
        "    return rsl"
      ],
      "execution_count": null,
      "outputs": []
    },
    {
      "cell_type": "code",
      "metadata": {
        "colab": {
          "base_uri": "https://localhost:8080/"
        },
        "id": "0X0RHR_M_toc",
        "outputId": "d29b4657-9b64-4e3a-f0f8-f300985c875e"
      },
      "source": [
        "kal_aspect = [\"want food plane come next flight information given arrival everything toilet shower area confusing staff disinterested almost rude last visit\",\n",
        "              \"building another remnant british colonial period located opposite railway station easy enough find also nice view national mosque didnt going inside office building days\"]\n",
        "\n",
        "print(ABSA_aspect(kal_aspect))"
      ],
      "execution_count": null,
      "outputs": [
        {
          "output_type": "stream",
          "name": "stdout",
          "text": [
            "['halal food', 'toilet']\n"
          ]
        }
      ]
    },
    {
      "cell_type": "markdown",
      "metadata": {
        "id": "Zf605dfKQ8Dn"
      },
      "source": [
        "# Evaluate Aspect"
      ]
    },
    {
      "cell_type": "code",
      "metadata": {
        "id": "6ObWmOJrHVsz"
      },
      "source": [
        "predict_x=model_aspect.predict(x_test_aspect)\n",
        "new_review_category_aspect=np.argmax(predict_x,axis=1)"
      ],
      "execution_count": null,
      "outputs": []
    },
    {
      "cell_type": "code",
      "metadata": {
        "id": "awGqswecQ8Do"
      },
      "source": [
        "#new_review_category_aspect = model_aspect.predict_classes(x_test_aspect)"
      ],
      "execution_count": null,
      "outputs": []
    },
    {
      "cell_type": "code",
      "metadata": {
        "id": "vcd6oudHQ8Dq"
      },
      "source": [
        "decode_aspect = np.argmax(y_test_aspect, axis=1)"
      ],
      "execution_count": null,
      "outputs": []
    },
    {
      "cell_type": "code",
      "metadata": {
        "id": "Z_bwWi3cQ8Ds",
        "colab": {
          "base_uri": "https://localhost:8080/"
        },
        "outputId": "99e62202-746c-4d43-94e9-66d861a4dcdc"
      },
      "source": [
        "decode_aspect"
      ],
      "execution_count": null,
      "outputs": [
        {
          "output_type": "execute_result",
          "data": {
            "text/plain": [
              "array([2, 0, 0, 0, 1, 1, 2, 2, 0, 0, 0, 1, 1, 0, 0, 2, 0, 2, 1, 1, 2, 0,\n",
              "       0, 1, 0, 2, 0, 0, 1, 1, 1, 2, 2, 0, 1, 1, 0, 2, 2, 2, 2, 2, 1, 2,\n",
              "       0, 0, 0, 0, 0, 1, 1, 0, 1, 2, 0, 2, 1, 1, 2, 1, 2, 2, 2, 0, 2, 2,\n",
              "       2, 0, 2, 2, 2, 1, 1, 2, 2, 1, 1, 2, 1, 2, 1, 2, 1, 0, 0, 0, 1, 2,\n",
              "       0, 0, 0, 0, 1, 1, 0, 0, 2, 1, 1, 2, 2, 2, 0, 2, 2, 2, 1, 2, 1, 0,\n",
              "       0, 2, 0, 0, 1, 1, 0, 1, 0, 2, 1, 2, 2, 2, 0, 1, 0, 2, 2, 1, 0, 1,\n",
              "       0, 0, 2, 1, 1, 2, 2, 2, 1, 1, 2, 2, 1, 0, 1, 2, 0, 0, 1, 0, 0, 2,\n",
              "       1, 2, 1, 0, 0, 2, 1, 0, 1, 0, 1, 2, 2, 1, 0, 0, 1, 0, 2, 0, 0, 2,\n",
              "       1, 0, 1, 2, 2, 0, 2, 2, 0, 0, 2, 1, 0, 2, 1, 0, 0, 0, 0, 2, 0, 0,\n",
              "       1, 0, 1, 2, 2, 0, 2, 1, 1, 1, 0, 2, 1, 0, 0, 0, 0, 0, 0, 2, 2, 1,\n",
              "       1, 0, 1, 0, 2, 1, 1, 0, 2, 2, 0, 0, 1, 1, 2, 2, 0, 0, 0, 1, 1, 2,\n",
              "       2, 2, 0, 1, 1, 1, 1, 2, 0, 2, 2, 0, 2, 0, 0, 0, 0, 0, 2, 1, 1, 1,\n",
              "       1, 1, 2, 1, 0, 1, 1, 2, 2, 1, 1, 2, 1, 0, 2, 1, 2, 2, 0, 1, 0, 2,\n",
              "       0, 1, 0, 1, 2, 0, 0, 1, 2, 0, 1, 2, 2, 1, 0, 2, 2, 0, 0, 1, 1, 1,\n",
              "       0, 0, 0, 0, 0, 1, 1, 1, 2, 2, 2, 1, 0, 1, 1, 0, 2, 2, 2, 2, 1, 0,\n",
              "       2, 2, 2, 2, 0, 1, 2, 1, 0, 0, 2, 0, 2, 2, 1, 2, 1, 1, 1, 2, 1, 0,\n",
              "       0, 2, 2, 2, 1, 1, 2, 2, 1, 0, 1, 1, 1, 1, 0, 0, 0, 1, 0, 1, 0, 1,\n",
              "       0, 2, 0, 0, 0, 0, 2, 1, 2, 0, 2, 1, 0, 1, 1, 0, 1, 1, 2, 0, 0, 0,\n",
              "       0, 2, 2, 0, 1, 1, 2, 2, 0, 2, 1, 1, 0, 2, 1, 1, 2, 1, 1, 0, 1, 1,\n",
              "       1, 2, 0, 1, 1, 2, 1, 1, 1, 2, 0, 0, 1, 1, 1, 0, 0, 1, 0, 0, 0, 0,\n",
              "       1, 1, 2, 0, 2, 2, 2, 2, 0, 2, 1, 2, 1, 0, 0, 2, 1, 2, 2, 2, 2, 2,\n",
              "       1, 2, 0, 0, 1, 2, 0, 0, 2, 2, 2, 1, 0, 0, 0, 2, 2, 1, 1, 0, 1, 1,\n",
              "       1, 1, 1, 1, 1, 2, 1, 0, 1, 1, 1, 1, 2, 0, 2, 2, 0, 1, 1, 2, 1, 2,\n",
              "       0, 1, 1, 1, 2, 2, 2, 0, 1, 2, 1, 0, 1, 0, 1, 0, 1, 2, 2, 0, 1, 0,\n",
              "       0, 2, 2, 1, 2, 0, 2, 0, 0, 1, 2, 1, 0, 1, 1, 0, 1, 2, 1, 1, 0, 2,\n",
              "       1, 2, 0, 0, 0, 1, 2, 2, 2, 2, 1, 1, 0, 0, 0, 2, 2, 1, 2, 2, 0, 1,\n",
              "       2, 2, 2, 2, 2, 0, 2, 1, 0, 0, 0, 2, 2, 1, 1, 1, 0, 2, 0, 1, 1, 1,\n",
              "       0, 1, 0, 1, 2, 0, 2, 0, 2, 0, 0, 2, 1, 0, 1, 2, 0, 0, 0, 1, 0, 1,\n",
              "       1, 0, 2, 1, 0, 1, 0, 1, 0, 0, 0, 1, 2, 2, 2, 2, 2, 2, 1, 2, 2, 1,\n",
              "       2, 1, 2, 2, 0, 2, 1, 0, 2, 0, 2, 2, 0, 2, 1, 2, 2, 1, 2, 0, 2, 2,\n",
              "       2, 2, 0, 1, 1, 2, 1, 1, 0, 1, 1, 0, 2, 0, 0, 0, 0, 2, 2, 2, 0, 0,\n",
              "       2, 0, 0, 0, 1, 1, 2, 0, 0, 2, 2, 1, 0, 2, 2, 0, 1, 2, 1, 1, 2, 0,\n",
              "       0, 2, 0, 2, 2, 1, 0, 0, 0, 1, 0, 2, 0, 2, 2, 0, 1, 1, 1, 0, 2, 2,\n",
              "       2, 1, 0, 0, 2, 2, 2, 0, 1, 1, 2, 2, 0, 1, 0, 0, 2, 0, 1, 1, 1, 1,\n",
              "       0, 1, 2, 2, 0, 0, 1, 1, 0, 2, 1, 0, 2, 2, 0, 2, 1, 0, 1, 1, 1, 0,\n",
              "       0, 1, 2, 0, 2, 0, 0, 0, 0, 2, 0, 1, 2, 2, 2, 0, 0, 0, 1, 2, 0, 2,\n",
              "       2, 1, 2, 1, 1, 2, 0, 1, 0, 2, 0, 0, 0, 0, 2, 1, 0, 1, 2, 2, 1, 1,\n",
              "       2, 1, 0, 2, 1, 0, 0, 0, 0, 0, 0, 0, 2, 1, 0, 1, 2, 2, 1, 2, 2, 0,\n",
              "       0, 2, 1, 0, 2, 0, 0, 0, 2, 1, 2, 0, 0, 0, 0, 0, 0, 1, 1, 2, 1, 1,\n",
              "       0, 1, 2, 1, 2, 2, 0, 2, 0, 2, 1, 0, 1, 2, 2, 0, 2, 1, 2, 0, 1, 1,\n",
              "       2, 1, 0])"
            ]
          },
          "metadata": {},
          "execution_count": 26
        }
      ]
    },
    {
      "cell_type": "code",
      "metadata": {
        "id": "KGUIQpW3Q8Dw"
      },
      "source": [
        "from sklearn.metrics import confusion_matrix"
      ],
      "execution_count": null,
      "outputs": []
    },
    {
      "cell_type": "code",
      "metadata": {
        "id": "rVvKusE4Q8Dz"
      },
      "source": [
        "lab_aspect = [\"toilet\", \"halal food\", \"mosque\"]"
      ],
      "execution_count": null,
      "outputs": []
    },
    {
      "cell_type": "code",
      "metadata": {
        "id": "Y9r0xC-_Q8D2"
      },
      "source": [
        "def conf_matrix(Y_act, Y_pred, lab):\n",
        "    confusion_mtx = confusion_matrix(Y_act, Y_pred)\n",
        "    plt.figure(figsize=(10,8))\n",
        "    sns.heatmap(confusion_mtx, annot=True, fmt=\"d\", xticklabels=lab, yticklabels=lab)\n",
        "    plt.ylabel(\"Actual\")\n",
        "    plt.xlabel(\"Predicted\")\n",
        "    plt.show()"
      ],
      "execution_count": null,
      "outputs": []
    },
    {
      "cell_type": "code",
      "metadata": {
        "id": "enU34bnsQ8D7",
        "colab": {
          "base_uri": "https://localhost:8080/",
          "height": 497
        },
        "outputId": "71f14d42-d2c6-49ce-87f1-475d65e81b29"
      },
      "source": [
        "conf_matrix(new_review_category_aspect, decode_aspect, lab_aspect)"
      ],
      "execution_count": null,
      "outputs": [
        {
          "output_type": "display_data",
          "data": {
            "image/png": "[encoded data removed]",
            "text/plain": [
              "<Figure size 720x576 with 2 Axes>"
            ]
          },
          "metadata": {
            "needs_background": "light"
          }
        }
      ]
    },
    {
      "cell_type": "code",
      "metadata": {
        "id": "vFlFkJ7qQ8EA",
        "colab": {
          "base_uri": "https://localhost:8080/"
        },
        "outputId": "a0b86d97-7736-4f67-8c2c-02159a5f6a3a"
      },
      "source": [
        "from sklearn.metrics import accuracy_score\n",
        "accuracy_score(new_review_category_aspect, decode_aspect)"
      ],
      "execution_count": null,
      "outputs": [
        {
          "output_type": "execute_result",
          "data": {
            "text/plain": [
              "0.9479048697621744"
            ]
          },
          "metadata": {},
          "execution_count": 31
        }
      ]
    },
    {
      "cell_type": "code",
      "metadata": {
        "scrolled": false,
        "id": "azF-XgSmQ8EE",
        "colab": {
          "base_uri": "https://localhost:8080/"
        },
        "outputId": "6d3c7c35-5145-432f-fb93-7938ff320561"
      },
      "source": [
        "from sklearn.metrics import classification_report\n",
        "print(classification_report(new_review_category_aspect, decode_aspect))"
      ],
      "execution_count": null,
      "outputs": [
        {
          "output_type": "stream",
          "name": "stdout",
          "text": [
            "              precision    recall  f1-score   support\n",
            "\n",
            "           0       0.97      0.90      0.94       326\n",
            "           1       0.89      0.97      0.93       259\n",
            "           2       0.98      0.97      0.98       298\n",
            "\n",
            "    accuracy                           0.95       883\n",
            "   macro avg       0.95      0.95      0.95       883\n",
            "weighted avg       0.95      0.95      0.95       883\n",
            "\n"
          ]
        }
      ]
    },
    {
      "cell_type": "code",
      "metadata": {
        "id": "oM46mFowQ8EG",
        "colab": {
          "base_uri": "https://localhost:8080/"
        },
        "outputId": "a8230da9-018c-4dbd-fa69-7ef2471a8834"
      },
      "source": [
        "from sklearn.metrics import precision_score, \\\n",
        "    recall_score, confusion_matrix, classification_report, \\\n",
        "    accuracy_score, f1_score\n",
        "\n",
        "print('Accuracy:', accuracy_score(new_review_category_aspect, decode_aspect))\n",
        "print('F1 score:', f1_score(new_review_category_aspect, decode_aspect, average='macro'))\n",
        "print('Recall:', recall_score(new_review_category_aspect, decode_aspect, average='macro'))\n",
        "print('Precision:', precision_score(new_review_category_aspect, decode_aspect, average='macro'))"
      ],
      "execution_count": null,
      "outputs": [
        {
          "output_type": "stream",
          "name": "stdout",
          "text": [
            "Accuracy: 0.9479048697621744\n",
            "F1 score: 0.9476094039439672\n",
            "Recall: 0.9503451036164011\n",
            "Precision: 0.9468612768431441\n"
          ]
        }
      ]
    },
    {
      "cell_type": "code",
      "metadata": {
        "id": "VpSkVt7ZQ8EJ",
        "colab": {
          "base_uri": "https://localhost:8080/"
        },
        "outputId": "f27cb942-4083-422e-81d5-eaa33306a515"
      },
      "source": [
        "accr_aspect = model_aspect.evaluate(x_test_aspect,y_test_aspect)\n",
        "print('Test set\\n  Loss: {:0.3f}\\n  Accuracy: {:0.3f}'.format(accr_aspect[0],accr_aspect[1]))"
      ],
      "execution_count": null,
      "outputs": [
        {
          "output_type": "stream",
          "name": "stdout",
          "text": [
            "28/28 [==============================] - 8s 244ms/step - loss: 0.1958 - accuracy: 0.9479\n",
            "Test set\n",
            "  Loss: 0.196\n",
            "  Accuracy: 0.948\n"
          ]
        }
      ]
    },
    {
      "cell_type": "code",
      "metadata": {
        "id": "qZs5ie18Q8EN",
        "colab": {
          "base_uri": "https://localhost:8080/",
          "height": 281
        },
        "outputId": "267aebf5-a02a-4197-b873-35188577023c"
      },
      "source": [
        "plt.title('Loss')\n",
        "plt.plot(history_aspect.history['loss'], label='loss')\n",
        "plt.plot(history_aspect.history['val_loss'], label='val_loss')\n",
        "plt.legend()\n",
        "plt.show();"
      ],
      "execution_count": null,
      "outputs": [
        {
          "output_type": "display_data",
          "data": {
            "image/png": "[encoded data removed]",
            "text/plain": [
              "<Figure size 432x288 with 1 Axes>"
            ]
          },
          "metadata": {
            "needs_background": "light"
          }
        }
      ]
    },
    {
      "cell_type": "code",
      "metadata": {
        "scrolled": true,
        "id": "cy7wlcjOQ8ER",
        "colab": {
          "base_uri": "https://localhost:8080/",
          "height": 281
        },
        "outputId": "f811cb0b-ac19-45ff-aca7-9275ba7773e1"
      },
      "source": [
        "plt.title('Accuracy')\n",
        "plt.plot(history_aspect.history['accuracy'], label='acc')\n",
        "plt.plot(history_aspect.history['val_accuracy'], label='val_acc')\n",
        "plt.legend()\n",
        "plt.show();"
      ],
      "execution_count": null,
      "outputs": [
        {
          "output_type": "display_data",
          "data": {
            "image/png": "[encoded data removed]",
            "text/plain": [
              "<Figure size 432x288 with 1 Axes>"
            ]
          },
          "metadata": {
            "needs_background": "light"
          }
        }
      ]
    },
    {
      "cell_type": "markdown",
      "metadata": {
        "id": "O1Hjb5gqQ8EY"
      },
      "source": [
        "# Sentiment"
      ]
    },
    {
      "cell_type": "code",
      "metadata": {
        "id": "tZ1qmruPQ8EY",
        "colab": {
          "base_uri": "https://localhost:8080/",
          "height": 350
        },
        "outputId": "9cb1620a-3de1-4aab-c57f-b310051df342"
      },
      "source": [
        "target_count_sent = df_train.sentimen.value_counts()\n",
        "print('Class 0:', target_count_sent[\"positive\"])\n",
        "print('Class 1:', target_count_sent[\"negative\"])\n",
        "\n",
        "target_count_sent.plot(kind='bar', title='Count (target)');"
      ],
      "execution_count": null,
      "outputs": [
        {
          "output_type": "stream",
          "name": "stdout",
          "text": [
            "Class 0: 1904\n",
            "Class 1: 463\n"
          ]
        },
        {
          "output_type": "display_data",
          "data": {
            "image/png": "[encoded data removed]",
            "text/plain": [
              "<Figure size 432x288 with 1 Axes>"
            ]
          },
          "metadata": {
            "needs_background": "light"
          }
        }
      ]
    },
    {
      "cell_type": "code",
      "metadata": {
        "id": "6E_hESw7Q8Ea"
      },
      "source": [
        "#  net             pos            neg\n",
        "count_class_0_sent, count_class_1_sent = df_train.sentimen.value_counts()\n",
        "\n",
        "# Divide by class\n",
        "df_class_0_sent = df_train[df_train['sentimen'] == \"positive\"]\n",
        "df_class_1_sent = df_train[df_train['sentimen'] == \"negative\"]"
      ],
      "execution_count": null,
      "outputs": []
    },
    {
      "cell_type": "code",
      "metadata": {
        "id": "OtoDFE1vQ8Ed",
        "colab": {
          "base_uri": "https://localhost:8080/",
          "height": 384
        },
        "outputId": "3918ae3e-3781-4bbd-ac05-0e70e91de026"
      },
      "source": [
        "df_class_1_over_sent = df_class_1_sent.sample(count_class_0_sent, replace=True)\n",
        "df_test_over_sent = pd.concat([df_class_0_sent, df_class_1_over_sent], axis=0)\n",
        "\n",
        "print('Random over-sampling:')\n",
        "print(df_test_over_sent.sentimen.value_counts())\n",
        "\n",
        "df_test_over_sent.sentimen.value_counts().plot(kind='bar', title='Count (target)');"
      ],
      "execution_count": null,
      "outputs": [
        {
          "output_type": "stream",
          "name": "stdout",
          "text": [
            "Random over-sampling:\n",
            "negative    1904\n",
            "positive    1904\n",
            "Name: sentimen, dtype: int64\n"
          ]
        },
        {
          "output_type": "display_data",
          "data": {
            "image/png": "[encoded data removed]",
            "text/plain": [
              "<Figure size 432x288 with 1 Axes>"
            ]
          },
          "metadata": {
            "needs_background": "light"
          }
        }
      ]
    },
    {
      "cell_type": "code",
      "metadata": {
        "id": "-g8J-D3vQ8Ef"
      },
      "source": [
        "cols_sent = ['sentimen','review']\n",
        "d_sent = df_test_over_sent[cols_sent]\n",
        "d_sent = d_sent[d_sent['review'].notnull()]\n",
        "\n",
        "d_sent = d_sent[d_sent['sentimen'].notnull()]"
      ],
      "execution_count": null,
      "outputs": []
    },
    {
      "cell_type": "code",
      "metadata": {
        "id": "WFJO7pKCQ8Ei",
        "colab": {
          "base_uri": "https://localhost:8080/"
        },
        "outputId": "e7b71c3e-9276-409b-8eff-41899aabaab4"
      },
      "source": [
        "len(d_sent)"
      ],
      "execution_count": null,
      "outputs": [
        {
          "output_type": "execute_result",
          "data": {
            "text/plain": [
              "3808"
            ]
          },
          "metadata": {},
          "execution_count": 17
        }
      ]
    },
    {
      "cell_type": "code",
      "metadata": {
        "id": "8mZDU9dzQ8Em"
      },
      "source": [
        "from numpy.random import seed\n",
        "seed(1)\n",
        "import tensorflow\n",
        "tensorflow.random.set_seed(2)\n",
        "#set_random_seed(2)"
      ],
      "execution_count": null,
      "outputs": []
    },
    {
      "cell_type": "code",
      "metadata": {
        "id": "I0m3QMlkQ8FC"
      },
      "source": [
        "d_sent.reset_index(drop=True,inplace=True)\n",
        "x_sent = d_sent.iloc[:, 1].values\n",
        "y_sent = d_sent.iloc[:, 0].values"
      ],
      "execution_count": null,
      "outputs": []
    },
    {
      "cell_type": "code",
      "metadata": {
        "id": "4kQZ1S97Q8FI"
      },
      "source": [
        "#x_sent = d_sent\n",
        "#x_sent = d_sent['sentimen']"
      ],
      "execution_count": null,
      "outputs": []
    },
    {
      "cell_type": "code",
      "metadata": {
        "id": "3TasORtQQ8FM"
      },
      "source": [
        "tk_sent = Tokenizer()"
      ],
      "execution_count": null,
      "outputs": []
    },
    {
      "cell_type": "code",
      "metadata": {
        "id": "1ZwCywYwQ8FO",
        "colab": {
          "base_uri": "https://localhost:8080/"
        },
        "outputId": "229946b7-0ecb-41b3-aa9a-de6ad745d42c"
      },
      "source": [
        "text_sent = d_sent['review'].values\n",
        "maxlen_sent = max([len(i.split()) for i in text_sent])\n",
        "tk_sent.fit_on_texts(text_sent) # each word in text is given a unique integer number\n",
        "x_sent = tk_sent.texts_to_sequences(x_sent) # represent a completely new set of word sequence\n",
        "x_sent = sequence.pad_sequences(x_sent, maxlen_sent) # to ensure that all sequences in a list have the same length\n",
        "vocab_sent = max([len(tk_sent.word_index)]) + 1\n",
        "print(x_sent)"
      ],
      "execution_count": null,
      "outputs": [
        {
          "output_type": "stream",
          "name": "stdout",
          "text": [
            "[[   0    0    0 ...    9   15    4]\n",
            " [   0    0    0 ...   15   46   61]\n",
            " [   0    0    0 ...    1   81  510]\n",
            " ...\n",
            " [   0    0    0 ...   34 2115    7]\n",
            " [   0    0    0 ...  424  970  937]\n",
            " [   0    0    0 ...  145    5    2]]\n"
          ]
        }
      ]
    },
    {
      "cell_type": "code",
      "metadata": {
        "id": "iyvlP-9XQ8FQ",
        "colab": {
          "base_uri": "https://localhost:8080/"
        },
        "outputId": "5d653853-d013-4379-a3b2-416b56412dfe"
      },
      "source": [
        "print(\"vocab sentiment : \" + str(vocab_sent))\n",
        "print(\"maxlen sentiment : \" + str(maxlen_sent))"
      ],
      "execution_count": null,
      "outputs": [
        {
          "output_type": "stream",
          "name": "stdout",
          "text": [
            "vocab sentiment : 8051\n",
            "maxlen sentiment : 580\n"
          ]
        }
      ]
    },
    {
      "cell_type": "code",
      "metadata": {
        "id": "0MAvV_BDQ8FS",
        "colab": {
          "base_uri": "https://localhost:8080/"
        },
        "outputId": "ca344f4a-c316-4b97-ed98-2a68593c560d"
      },
      "source": [
        "from sklearn.preprocessing import LabelEncoder\n",
        "# encoding the levels of categorical features into numeric values\n",
        "labelencoder_Y_sent = LabelEncoder()\n",
        "y_sent = labelencoder_Y_sent.fit_transform(y_sent)\n",
        "print(y_sent)\n",
        "print(np.unique(y_sent, return_counts=True))"
      ],
      "execution_count": null,
      "outputs": [
        {
          "output_type": "stream",
          "name": "stdout",
          "text": [
            "[1 1 1 ... 0 0 0]\n",
            "(array([0, 1]), array([1904, 1904]))\n"
          ]
        }
      ]
    },
    {
      "cell_type": "code",
      "metadata": {
        "id": "5-GlVVqmQ8FV",
        "colab": {
          "base_uri": "https://localhost:8080/"
        },
        "outputId": "6f17b768-4807-434b-9943-b57cd666f401"
      },
      "source": [
        "from tensorflow.keras import utils as np_utils\n",
        "y_sent = np_utils.to_categorical(y_sent, num_classes= 2)\n",
        "# One hot encoded\n",
        "print(y_sent)"
      ],
      "execution_count": null,
      "outputs": [
        {
          "output_type": "stream",
          "name": "stdout",
          "text": [
            "[[0. 1.]\n",
            " [0. 1.]\n",
            " [0. 1.]\n",
            " ...\n",
            " [1. 0.]\n",
            " [1. 0.]\n",
            " [1. 0.]]\n"
          ]
        }
      ]
    },
    {
      "cell_type": "code",
      "metadata": {
        "id": "zAci_JeGQ8FX",
        "colab": {
          "base_uri": "https://localhost:8080/"
        },
        "outputId": "7315ca6d-8c32-41ee-bfb0-0c7c6c9ecea7"
      },
      "source": [
        "test_split = 0.33\n",
        "from sklearn.model_selection import train_test_split\n",
        "x_train_sent, x_test_sent, y_train_sent, y_test_sent, indices_train_sent, indices_test_sent = train_test_split(x_sent, y_sent, d_sent.index, test_size=0.33, random_state=42)\n",
        "\n",
        "print(x_train_sent.shape)\n",
        "print(y_train_sent.shape)\n",
        "print(x_test_sent.shape)\n",
        "print(y_test_sent.shape)\n",
        "print(y_sent)"
      ],
      "execution_count": null,
      "outputs": [
        {
          "output_type": "stream",
          "name": "stdout",
          "text": [
            "(2551, 580)\n",
            "(2551, 2)\n",
            "(1257, 580)\n",
            "(1257, 2)\n",
            "[[0. 1.]\n",
            " [0. 1.]\n",
            " [0. 1.]\n",
            " ...\n",
            " [1. 0.]\n",
            " [1. 0.]\n",
            " [1. 0.]]\n"
          ]
        }
      ]
    },
    {
      "cell_type": "code",
      "metadata": {
        "id": "YLS46CBsQ8Fg",
        "colab": {
          "base_uri": "https://localhost:8080/"
        },
        "outputId": "c1f508ad-e24c-49b7-bacf-ceaed91a797c"
      },
      "source": [
        "x_train_sent = sequence.pad_sequences(x_train_sent, maxlen=maxlen_sent)\n",
        "x_test_sent = sequence.pad_sequences(x_test_sent, maxlen=maxlen_sent)\n",
        "print('x_train_sent shape:', x_train_sent.shape)\n",
        "print('x_test_sent shape:', x_test_sent.shape)"
      ],
      "execution_count": null,
      "outputs": [
        {
          "output_type": "stream",
          "name": "stdout",
          "text": [
            "x_train_sent shape: (2551, 580)\n",
            "x_test_sent shape: (1257, 580)\n"
          ]
        }
      ]
    },
    {
      "cell_type": "code",
      "metadata": {
        "id": "sBALKHaX3csl"
      },
      "source": [
        "embedding_dims = 64\n",
        "filters = 200\n",
        "kernel_size = 9\n",
        "hidden_dims = 128\n",
        "dropout = 0.25\n",
        "lstm_unit = 64\n",
        "gru_unit = 64"
      ],
      "execution_count": null,
      "outputs": []
    },
    {
      "cell_type": "code",
      "metadata": {
        "id": "ZGcYJANijbde",
        "colab": {
          "base_uri": "https://localhost:8080/",
          "height": 1000
        },
        "outputId": "1ea04946-bc23-479b-a040-1ab5627ddc02"
      },
      "source": [
        "from keras.utils.vis_utils import plot_model\n",
        "\n",
        "model_sent = Sequential()\n",
        "model_sent.add(Embedding(vocab_sent,\n",
        "                      embedding_dims,\n",
        "                      input_length=maxlen_sent))\n",
        "model_sent.add(Dropout(dropout))\n",
        "\n",
        "model_sent.add(Conv1D(filters,\n",
        "                      kernel_size,\n",
        "                      padding='valid',\n",
        "                      activation='relu',\n",
        "                      strides=1))\n",
        "\n",
        "model_sent.add(MaxPooling1D())\n",
        "model_sent.add(Dense(hidden_dims))\n",
        "model_sent.add(Dropout(dropout))\n",
        "model_sent.add(Activation('relu'))\n",
        "\n",
        "model_sent.add(Bidirectional(LSTM(lstm_unit)))\n",
        "\n",
        "model_sent.add(Dense(2))\n",
        "model_sent.add(Activation('sigmoid'))\n",
        "\n",
        "plot_model(model_sent, to_file='model_sent6.png', show_shapes=True, show_layer_names=True)\n",
        "#ctk = model_sent\n",
        "\n",
        "#model_sent.compile(loss='binary_crossentropy',\n",
        "#                optimizer='adam',\n",
        "#                metrics=['accuracy'])\n",
        "\n",
        "#history_sent = model_sent.fit(x_train_sent, y_train_sent,\n",
        "#          batch_size=64,\n",
        "#          epochs=8,\n",
        "#          validation_split = 0.33,\n",
        "#          callbacks=[EarlyStopping(monitor='val_loss', patience=10, min_delta=0.0001)])"
      ],
      "execution_count": null,
      "outputs": [
        {
          "output_type": "execute_result",
          "data": {
            "image/png": "[encoded data removed]",
            "text/plain": [
              "<IPython.core.display.Image object>"
            ]
          },
          "metadata": {},
          "execution_count": 33
        }
      ]
    },
    {
      "cell_type": "code",
      "metadata": {
        "colab": {
          "base_uri": "https://localhost:8080/"
        },
        "id": "Kj4hnmiup7uf",
        "outputId": "03ef7202-5b44-443a-f48e-4e900172c152"
      },
      "source": [
        "# Save the model\n",
        "filepath = './saved_model'\n",
        "save_model(model_sent, filepath)\n",
        "\n",
        "# Load the model\n",
        "model_sent = load_model(filepath, compile = True)"
      ],
      "execution_count": null,
      "outputs": [
        {
          "output_type": "stream",
          "name": "stderr",
          "text": [
            "WARNING:absl:Found untraced functions such as lstm_cell_37_layer_call_fn, lstm_cell_37_layer_call_and_return_conditional_losses, lstm_cell_38_layer_call_fn, lstm_cell_38_layer_call_and_return_conditional_losses, lstm_cell_37_layer_call_fn while saving (showing 5 of 10). These functions will not be directly callable after loading.\n"
          ]
        },
        {
          "output_type": "stream",
          "name": "stdout",
          "text": [
            "INFO:tensorflow:Assets written to: ./saved_model/assets\n"
          ]
        },
        {
          "output_type": "stream",
          "name": "stderr",
          "text": [
            "INFO:tensorflow:Assets written to: ./saved_model/assets\n",
            "WARNING:absl:<keras.layers.recurrent.LSTMCell object at 0x7fd4b2da5590> has the same name 'LSTMCell' as a built-in Keras object. Consider renaming <class 'keras.layers.recurrent.LSTMCell'> to avoid naming conflicts when loading with `tf.keras.models.load_model`. If renaming is not possible, pass the object in the `custom_objects` parameter of the load function.\n",
            "WARNING:absl:<keras.layers.recurrent.LSTMCell object at 0x7fd4b2d93090> has the same name 'LSTMCell' as a built-in Keras object. Consider renaming <class 'keras.layers.recurrent.LSTMCell'> to avoid naming conflicts when loading with `tf.keras.models.load_model`. If renaming is not possible, pass the object in the `custom_objects` parameter of the load function.\n"
          ]
        }
      ]
    },
    {
      "cell_type": "markdown",
      "metadata": {
        "id": "yX7SbPV8Q8Ft"
      },
      "source": [
        "# Predict Sentiment\n",
        "tidak bisa di run karena butuh negation handling, jadi langsung evaluate aja"
      ]
    },
    {
      "cell_type": "code",
      "metadata": {
        "id": "jTxe1UDqQ8Fu"
      },
      "source": [
        "#stopword_list = [\"pernah\", \"dan\", \"untuk\", \"yang\", \"dengan\", \"sangat\", \"banyak\", \"dari\",\n",
        "#            \"kita\", \"saya\", \"juga\", \"bisa\", \"karena\", \"kalau\", \"tapi\", \"akan\", \"sudah\", \"kami\", \"adalah\",\n",
        "#            \"anda\", \"lagi\", \"buat\", \"salah\", \"sampai\", \"dapat\", \"dalam\", \"lebih\", \"pada\", \"sekali\", \"atau\", \"masih\",\n",
        "#            \"jika\", \"apa\", \"beberapa\", \"menjadi\", \"tetap\", \"saja\", \"terdapat\", \"boleh\", \"begitu\", \"hanya\", \"paling\",\n",
        "#            \"sehingga\", \"jadi\", \"sambil\", \"harus\", \"memang\", \"setiap\", \"selalu\", \"berada\", \"kamu\", \"sebagai\", \"bagi\",\n",
        "#            \"sana\", \"lain\", \"setelah\", \"semua\", \"seperti\", \"dulu\", \"dahulu\", \"ketika\", \"terlalu\", \"mungkin\", \"namun\",\n",
        "#            \"hingga\", \"ada\", \"bila\", \"agak\",  \"tersebut\", \"sebuah\", \"selain\", \"sungguh\", \"bahkan\", \"tetapi\", \"apalagi\",\n",
        "#            \"belum\", \"telah\", \"terus\", \"meskipun\", \"lalu\", \"sama\", \"agar\", \"pula\", \"secara\", \"selama\", \"tiap\", \"bagian\",\n",
        "#            \"meski\", \"yaitu\",  \"serta\", \"seorang\", \"orang\", \"walaupun\", \"tertentu\", \"maka\", \"seolah\", \"cuma\", \"sang\",\n",
        "#            \"alhamdulillah\", \"seakan\", \"bakal\", \"sekaligus\", \"kebanyakan\", \"sebelum\", \"senantiasa\", \"adanya\", \"saat\",\n",
        "#            \"itulah\", \"tadi\", \"terkait\", \"begitulah\", \"kira\", \"ke\", \"di\", \"nya\", \"antara\", \"ialah\", \"ya\", \"aja\",\n",
        "#            \"ini\", \"itu\", \"sih\"]"
      ],
      "execution_count": null,
      "outputs": []
    },
    {
      "cell_type": "code",
      "metadata": {
        "id": "Slq3Ij2bQ8Fx"
      },
      "source": [
        "#def stopword(list):\n",
        "#    rsl = []\n",
        "#    for val in list:\n",
        "#        querywords = val.split()\n",
        "#        resultwords  = [word for word in querywords if word.lower() not in stopword_list]\n",
        "#        result = ' '.join(resultwords)\n",
        "#        rsl.append(result)\n",
        "#    return rsl"
      ],
      "execution_count": null,
      "outputs": []
    },
    {
      "cell_type": "code",
      "metadata": {
        "id": "nrdh6N7QQ8Fz"
      },
      "source": [
        "#def join_negation(text):\n",
        "#    \"\"\"  Join negation word with delimiter. \"\"\"\n",
        "#    text_list = text.split(' ')\n",
        "\n",
        "#    for index in range(len(text_list)):\n",
        "#        if (text_list[index] == 'tidak' or text_list[index] == 'kurang' or text_list[index] == 'jangan'\n",
        "#           or text_list[index] == 'bukan'):\n",
        "#            if index < len(text_list) - 1:\n",
        "#                text_list[index] = text_list[index] + \"_\" + text_list[index + 1]\n",
        "#                text_list[index + 1] = ''\n",
        "#            else:\n",
        "#                text_list[index] = ''\n",
        "#    return ' '.join(' '.join(text_list).split())"
      ],
      "execution_count": null,
      "outputs": []
    },
    {
      "cell_type": "code",
      "metadata": {
        "id": "b_3VlsNMQ8F6"
      },
      "source": [
        "#def cleansentencesent(list):\n",
        "#    rsl = []\n",
        "#    tmp = stopword(list)\n",
        "#    for val in tmp:\n",
        "#        tmpp = join_negation(val)\n",
        "#        rsl.append(tmpp)\n",
        "#    return rsl"
      ],
      "execution_count": null,
      "outputs": []
    },
    {
      "cell_type": "code",
      "metadata": {
        "id": "y6i2CZLkQ8GA"
      },
      "source": [
        "#def ABSA_sent(list):\n",
        "#    rsl = []\n",
        "#    spl_sent = [val.split() for val in list]\n",
        "#    hasil_sent = [ct.tag_sents([val]) for val in spl_sent]\n",
        "#    hasil_sent = [item for sublist in hasil_sent for item in sublist]\n",
        "#    for val, ko in zip(hasil_sent, list):\n",
        "#        tmp = \"\"\n",
        "#        for vall in val:\n",
        "#            if(vall[1] == \"NEG\" or vall[1] == \"JJ\" or vall[1] == \"VB\"):\n",
        "#                tmp = tmp + vall[0] + \" \"\n",
        "#            if('_' in vall[0]):\n",
        "#                tmp = tmp + vall[0] + \" \"\n",
        "#        tmp = tmp.split()\n",
        "#        tmp = ' '.join(tmp)\n",
        "#        k = tk_sent.texts_to_sequences([tmp]) #represent a completely new set of word sequence\n",
        "#        k = sequence.pad_sequences(k, maxlen=maxlen_sent)\n",
        "#        hsl = labelencoder_Y_sent.inverse_transform([model_sent.predict_classes(k)])\n",
        "#        rsl.append(hsl)\n",
        "#    return rsl"
      ],
      "execution_count": null,
      "outputs": []
    },
    {
      "cell_type": "code",
      "metadata": {
        "id": "9_L7UOGOQ8GC"
      },
      "source": [
        "#kal_sent = [\"Pemandangannya indah sekali, banyak berbagai macam pohon dan bunga\",\n",
        "#       \"Tempatnya sangat teduh\",\n",
        "#       \"sayangnya tempat ini ramai dan sesak ketika musim libur\",\n",
        "#       \"saya tidak suka dengan keramaian\",\n",
        "#       \"pantai fasilitasnya tidak memadai\",\n",
        "#       \"hawanya sedikit dingin dengan udara yang segar\",\n",
        "#       \"lokasi tidak terik\",\n",
        "#       \"Pas banget buat kamu yang suka akan nuansa alam, apalagi untuk botram bareng keluarga besar. Tempatnya sejuk ditambah ada rusa juga\"]\n",
        "\n",
        "#print(ABSA_sent(cleansentencesent(kal_sent)))"
      ],
      "execution_count": null,
      "outputs": []
    },
    {
      "cell_type": "code",
      "metadata": {
        "id": "naXgaIj_pouT"
      },
      "source": [
        "from keras.preprocessing.text import Tokenizer\n",
        "from keras.preprocessing.sequence import pad_sequences\n",
        "from keras import regularizers\n",
        "\n",
        "max_words = 5000\n",
        "max_len = maxlen_sent\n",
        "\n",
        "tokenizer = Tokenizer(num_words=max_words)"
      ],
      "execution_count": null,
      "outputs": []
    },
    {
      "cell_type": "code",
      "metadata": {
        "colab": {
          "base_uri": "https://localhost:8080/",
          "height": 35
        },
        "id": "QpQkLIKsp1TC",
        "outputId": "618709f3-b673-48c0-e94a-98089d261b46"
      },
      "source": [
        "aspect = ['negative','positive']\n",
        "sentence = ['building another remnant british colonial period located opposite railway station easy enough find also nice view national mosque didnt going inside office building days']\n",
        "sequence2 = tokenizer.texts_to_sequences(sentence)\n",
        "test = pad_sequences(sequence2, maxlen=max_len)\n",
        "aspect[np.around(model_sent.predict(test), decimals=0).argmax(axis=1)[0]]"
      ],
      "execution_count": null,
      "outputs": [
        {
          "output_type": "execute_result",
          "data": {
            "application/vnd.google.colaboratory.intrinsic+json": {
              "type": "string"
            },
            "text/plain": [
              "'positive'"
            ]
          },
          "metadata": {},
          "execution_count": 76
        }
      ]
    },
    {
      "cell_type": "code",
      "metadata": {
        "id": "foa_yYEbfcTA"
      },
      "source": [
        "def ABSA_sent(list):\n",
        "    rsl = []\n",
        "    aspect = ['negative','positive']\n",
        "    hasil_aspect = list;\n",
        "    for val in hasil_aspect:\n",
        "      sequence2 = tk_sent.texts_to_sequences([val])\n",
        "      test = sequence.pad_sequences(sequence2, maxlen=maxlen_sent)\n",
        "      #hsl = labelencoder_Y_aspect.inverse_transform([model_aspect.predict(test)])\n",
        "      hsl = aspect[np.around(model_sent.predict(test), decimals=0).argmax(axis=1)[0]]\n",
        "      rsl.append(hsl)\n",
        "    return rsl"
      ],
      "execution_count": null,
      "outputs": []
    },
    {
      "cell_type": "code",
      "metadata": {
        "colab": {
          "base_uri": "https://localhost:8080/"
        },
        "id": "lOizeyFyfrQ2",
        "outputId": "97b3b9ec-a982-4835-818a-0146b6bb706f"
      },
      "source": [
        "kal_sent = [\"want food plane come next flight information given arrival everything toilet shower area confusing staff disinterested almost rude last visit\",\n",
        "            \"building another remnant british colonial period located opposite railway station easy enough find also nice view national mosque didnt going inside office building days\"]\n",
        "\n",
        "print(ABSA_sent(kal_sent))"
      ],
      "execution_count": null,
      "outputs": [
        {
          "output_type": "stream",
          "name": "stdout",
          "text": [
            "['negative', 'positive']\n"
          ]
        }
      ]
    },
    {
      "cell_type": "markdown",
      "metadata": {
        "id": "bRZuqMkVQ8GE"
      },
      "source": [
        "# Evaluate Sentiment"
      ]
    },
    {
      "cell_type": "code",
      "metadata": {
        "id": "oCJ887wtD1BA"
      },
      "source": [
        "predict_x=model_sent.predict(x_test_sent)\n",
        "new_review_category_sent=np.argmax(predict_x,axis=1)"
      ],
      "execution_count": null,
      "outputs": []
    },
    {
      "cell_type": "code",
      "metadata": {
        "id": "deZEVtASQ8GF"
      },
      "source": [
        "#new_review_category_sent = model_sent.predict_classes(x_test_sent)"
      ],
      "execution_count": null,
      "outputs": []
    },
    {
      "cell_type": "code",
      "metadata": {
        "id": "_mc_S819Q8GI"
      },
      "source": [
        "decode_sent = np.argmax(y_test_sent, axis=1)"
      ],
      "execution_count": null,
      "outputs": []
    },
    {
      "cell_type": "code",
      "metadata": {
        "id": "g8MvJm7gQ8GJ"
      },
      "source": [
        "lab_sent = [\"negative\",\"positive\"]"
      ],
      "execution_count": null,
      "outputs": []
    },
    {
      "cell_type": "code",
      "metadata": {
        "id": "lggYwbfFQ8GR",
        "colab": {
          "base_uri": "https://localhost:8080/",
          "height": 497
        },
        "outputId": "58bebf20-0179-4de1-fa4c-711755d09147"
      },
      "source": [
        "conf_matrix(new_review_category_sent, decode_sent, lab_sent)"
      ],
      "execution_count": null,
      "outputs": [
        {
          "output_type": "display_data",
          "data": {
            "image/png": "[encoded data removed]",
            "text/plain": [
              "<Figure size 720x576 with 2 Axes>"
            ]
          },
          "metadata": {
            "needs_background": "light"
          }
        }
      ]
    },
    {
      "cell_type": "code",
      "metadata": {
        "id": "8620aqWOQ8GT",
        "colab": {
          "base_uri": "https://localhost:8080/"
        },
        "outputId": "03a6e507-1117-4675-a7ff-eded716f6406"
      },
      "source": [
        "from sklearn.metrics import accuracy_score\n",
        "accuracy_score(new_review_category_sent, decode_sent)"
      ],
      "execution_count": null,
      "outputs": [
        {
          "output_type": "execute_result",
          "data": {
            "text/plain": [
              "0.8138424821002387"
            ]
          },
          "metadata": {},
          "execution_count": 131
        }
      ]
    },
    {
      "cell_type": "code",
      "metadata": {
        "scrolled": true,
        "id": "zcTxTvgEQ8Ga",
        "colab": {
          "base_uri": "https://localhost:8080/"
        },
        "outputId": "77c460af-2082-4779-f89e-f3d6747d52ba"
      },
      "source": [
        "from sklearn.metrics import classification_report\n",
        "print(classification_report(new_review_category_sent, decode_sent))"
      ],
      "execution_count": null,
      "outputs": [
        {
          "output_type": "stream",
          "name": "stdout",
          "text": [
            "              precision    recall  f1-score   support\n",
            "\n",
            "           0       0.90      0.76      0.82       711\n",
            "           1       0.74      0.88      0.80       546\n",
            "\n",
            "    accuracy                           0.81      1257\n",
            "   macro avg       0.82      0.82      0.81      1257\n",
            "weighted avg       0.83      0.81      0.81      1257\n",
            "\n"
          ]
        }
      ]
    },
    {
      "cell_type": "code",
      "metadata": {
        "id": "5Ox_GBYwQ8Gc",
        "colab": {
          "base_uri": "https://localhost:8080/"
        },
        "outputId": "f29cd4f4-f004-4434-a53b-a75a4d1767d7"
      },
      "source": [
        "from sklearn.metrics import precision_score, \\\n",
        "    recall_score, confusion_matrix, classification_report, \\\n",
        "    accuracy_score, f1_score\n",
        "\n",
        "print('Accuracy:', accuracy_score(new_review_category_sent, decode_sent))\n",
        "print('F1 score:', f1_score(new_review_category_sent, decode_sent, average='macro'))\n",
        "print('Recall:', recall_score(new_review_category_sent, decode_sent, average='macro'))\n",
        "print('Precision:', precision_score(new_review_category_sent, decode_sent, average='macro'))"
      ],
      "execution_count": null,
      "outputs": [
        {
          "output_type": "stream",
          "name": "stdout",
          "text": [
            "Accuracy: 0.8138424821002387\n",
            "F1 score: 0.813458904109589\n",
            "Recall: 0.8220545277507303\n",
            "Precision: 0.8170272490757223\n"
          ]
        }
      ]
    },
    {
      "cell_type": "code",
      "metadata": {
        "id": "330MU3vXQ8Ge",
        "colab": {
          "base_uri": "https://localhost:8080/"
        },
        "outputId": "9df7c687-9dcb-499d-bf04-61f9f5a44d73"
      },
      "source": [
        "accr_sent = model_sent.evaluate(x_test_sent,y_test_sent)\n",
        "print('Test set\\n  Loss: {:0.3f}\\n  Accuracy: {:0.3f}'.format(accr_sent[0],accr_sent[1]))"
      ],
      "execution_count": null,
      "outputs": [
        {
          "output_type": "stream",
          "name": "stdout",
          "text": [
            "40/40 [==============================] - 7s 153ms/step - loss: 0.5766 - accuracy: 0.8138\n",
            "Test set\n",
            "  Loss: 0.577\n",
            "  Accuracy: 0.814\n"
          ]
        }
      ]
    },
    {
      "cell_type": "code",
      "metadata": {
        "id": "b7rJTzC9Q8Gg",
        "colab": {
          "base_uri": "https://localhost:8080/"
        },
        "outputId": "5733f8cf-3bc8-4a39-fbe3-a3f0bbf150ce"
      },
      "source": [
        "plt.title('Loss')\n",
        "plt.plot(history_sent.history['loss'], label='loss')\n",
        "plt.plot(history_sent.history['val_loss'], label='val_loss')\n",
        "plt.legend()\n",
        "plt.show();"
      ],
      "execution_count": null,
      "outputs": [
        {
          "output_type": "display_data",
          "data": {
            "image/png": "[encoded data removed]",
            "text/plain": [
              "<Figure size 432x288 with 1 Axes>"
            ]
          },
          "metadata": {
            "needs_background": "light"
          }
        }
      ]
    },
    {
      "cell_type": "code",
      "metadata": {
        "id": "dkavzejeQ8Gj",
        "colab": {
          "base_uri": "https://localhost:8080/",
          "height": 281
        },
        "outputId": "ae4a3936-f33b-445d-c270-fb6b61ba2a85"
      },
      "source": [
        "plt.title('Accuracy')\n",
        "plt.plot(history_sent.history['accuracy'], label='acc')\n",
        "plt.plot(history_sent.history['val_accuracy'], label='val_acc')\n",
        "plt.legend()\n",
        "plt.show();"
      ],
      "execution_count": null,
      "outputs": [
        {
          "output_type": "display_data",
          "data": {
            "image/png": "[encoded data removed]",
            "text/plain": [
              "<Figure size 432x288 with 1 Axes>"
            ]
          },
          "metadata": {
            "needs_background": "light"
          }
        }
      ]
    },
    {
      "cell_type": "markdown",
      "metadata": {
        "id": "233WCy4IQ8Gl"
      },
      "source": [
        "# Aspect Based Sentiment Analysis"
      ]
    },
    {
      "cell_type": "code",
      "metadata": {
        "id": "SoGLHfe0Q8Gm"
      },
      "source": [
        "import warnings\n",
        "warnings.filterwarnings('ignore')"
      ],
      "execution_count": null,
      "outputs": []
    },
    {
      "cell_type": "code",
      "metadata": {
        "scrolled": false,
        "id": "7-TkAK1oQ8Go",
        "colab": {
          "base_uri": "https://localhost:8080/"
        },
        "outputId": "f26f0b37-7e45-4a08-9342-f6451e4ae1cc"
      },
      "source": [
        "ABSA = [\"want food plane come next flight information given arrival everything toilet shower area confusing staff disinterested almost rude last visit\",\n",
        "        \"building another remnant british colonial period located opposite railway station easy enough find also nice view national mosque didnt going inside office building days\"]\n",
        "\n",
        "sn = ABSA_sent(ABSA)\n",
        "ap = ABSA_aspect(ABSA)\n",
        "for val, sen, asp in zip(ABSA, sn, ap):\n",
        "    print(val)\n",
        "    print(\"Sentiment : \" + sen)\n",
        "    print(\"Aspect: \" + asp)\n",
        "    print()"
      ],
      "execution_count": null,
      "outputs": [
        {
          "output_type": "stream",
          "name": "stdout",
          "text": [
            "want food plane come next flight information given arrival everything toilet shower area confusing staff disinterested almost rude last visit\n",
            "Sentiment : negative\n",
            "Aspect: halal food\n",
            "\n",
            "building another remnant british colonial period located opposite railway station easy enough find also nice view national mosque didnt going inside office building days\n",
            "Sentiment : positive\n",
            "Aspect: toilet\n",
            "\n"
          ]
        }
      ]
    }
  ]
}